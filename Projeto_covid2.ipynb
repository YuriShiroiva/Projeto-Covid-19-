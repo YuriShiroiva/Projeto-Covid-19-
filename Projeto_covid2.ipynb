{
 "cells": [
  {
   "cell_type": "code",
   "execution_count": null,
   "id": "f2e51c68-e6cb-4fb3-8c46-b520777c25b6",
   "metadata": {
    "tags": []
   },
   "outputs": [],
   "source": [
    "# Projeto Covid-19\n",
    "\n",
    "## Digital innovation One"
   ]
  },
  {
   "cell_type": "code",
   "execution_count": null,
   "id": "bbbadbd4-0b49-4540-911c-a21c37606f54",
   "metadata": {},
   "outputs": [],
   "source": [
    " import pandas as pd\n",
    " import numpy as np\n",
    " from datetime import datetime\n",
    " import plotly.express as px\n",
    " import plotly.graph_objects as go"
   ]
  },
  {
   "cell_type": "code",
   "execution_count": null,
   "id": "42bffcbd-5011-491b-980b-94dc82da2f82",
   "metadata": {},
   "outputs": [],
   "source": [
    "# vamos importas os dados para o projeto\n",
    "url = 'https://github.com/neylsoncrepalde/projeto_eda_covid/blob/master/covid_19_data.csv?raw=true'"
   ]
  },
  {
   "cell_type": "code",
   "execution_count": null,
   "id": "d04287df-8c83-4113-8a95-6434d70e7adb",
   "metadata": {},
   "outputs": [],
   "source": [
    "df = pd.read_csv(url, parse_dates=['ObservationDate', 'Last Update'])\n",
    "df"
   ]
  },
  {
   "cell_type": "code",
   "execution_count": null,
   "id": "185fc125-b3c0-47cc-bdd2-35bf183dcbd3",
   "metadata": {},
   "outputs": [],
   "source": [
    "# conferir os tipos de cada coluna\n",
    "df.dtypes"
   ]
  },
  {
   "cell_type": "code",
   "execution_count": null,
   "id": "c73acbb9-a154-4a91-a80d-82e53d19c82c",
   "metadata": {},
   "outputs": [],
   "source": [
    "import re\n",
    "\n",
    "def corrige_colunas(col_name):\n",
    "    return re.sub(r\"[/| ]\", \"\", col_name).lower()"
   ]
  },
  {
   "cell_type": "code",
   "execution_count": null,
   "id": "f1274e79-3e07-43a4-99bd-8fec76430d4f",
   "metadata": {},
   "outputs": [],
   "source": [
    "corrige_colunas(\"ADGGhhH oi\" ) #teste da função"
   ]
  },
  {
   "cell_type": "code",
   "execution_count": null,
   "id": "1ff81789-4a3d-4259-8551-729aa38a777d",
   "metadata": {},
   "outputs": [],
   "source": [
    "df.columns = [corrige_colunas(col) for col in df.columns]"
   ]
  },
  {
   "cell_type": "code",
   "execution_count": null,
   "id": "2724faff-c8e3-4725-a3ab-3445af41f83b",
   "metadata": {},
   "outputs": [],
   "source": [
    "df"
   ]
  },
  {
   "cell_type": "code",
   "execution_count": null,
   "id": "f42b1533-8937-455b-bd4e-1882b4522d96",
   "metadata": {},
   "outputs": [],
   "source": [
    "# Brasil\n",
    "\n",
    "## Vamos selecionar dados apenas do Brasil para investigar"
   ]
  },
  {
   "cell_type": "code",
   "execution_count": null,
   "id": "529354c4-7bc7-4c92-9542-396c1b7e3b26",
   "metadata": {},
   "outputs": [],
   "source": [
    "df.countryregion.unique()"
   ]
  },
  {
   "cell_type": "code",
   "execution_count": null,
   "id": "4f1854d1-a06d-44b4-9b7b-0d5fd802add9",
   "metadata": {},
   "outputs": [],
   "source": [
    "df.loc[df.countryregion == 'Brazil']"
   ]
  },
  {
   "cell_type": "code",
   "execution_count": null,
   "id": "a52743f4-29e1-443f-a66c-b484fdab9d83",
   "metadata": {},
   "outputs": [],
   "source": [
    "brasil = df.loc[\n",
    "                 (df.countryregion == 'Brazil') &\n",
    "                 (df.confirmed > 0)\n",
    "               ]\n",
    "                 "
   ]
  },
  {
   "cell_type": "code",
   "execution_count": null,
   "id": "469c651e-7d20-4bc2-ba34-95113efca7d1",
   "metadata": {},
   "outputs": [],
   "source": [
    "brasil"
   ]
  },
  {
   "cell_type": "code",
   "execution_count": null,
   "id": "3afafa0f-320b-41bd-b0f3-f3c4ee8da858",
   "metadata": {},
   "outputs": [],
   "source": [
    "# Casos confirmados"
   ]
  },
  {
   "cell_type": "code",
   "execution_count": null,
   "id": "636d4a17-624c-4b49-b822-5a142804d9a3",
   "metadata": {},
   "outputs": [],
   "source": [
    "# Gráfico de evolução dos casos confirmados\n",
    "px.line(brasil, 'observationdate', 'confirmed', title='Casos confirmados no Brasil')"
   ]
  },
  {
   "cell_type": "code",
   "execution_count": null,
   "id": "b0d1e477-c907-4945-ad0a-feeb8c727fc5",
   "metadata": {},
   "outputs": [],
   "source": [
    "# Novos casos por dia"
   ]
  },
  {
   "cell_type": "code",
   "execution_count": null,
   "id": "f0a3aa19-fe08-4d07-9586-11d1a593d9e4",
   "metadata": {},
   "outputs": [],
   "source": [
    "# técnica de programação funcional \n",
    "brasil['novoscasos'] = list(map(\n",
    "    lambda x: 0 if (x==0) else brasil['confirmed'].iloc[x] - brasil['confirmed'].iloc[x-1],\n",
    "    np.arange(brasil.shape[0])\n",
    "))"
   ]
  },
  {
   "cell_type": "code",
   "execution_count": null,
   "id": "f8911150-faf4-431e-ad77-0c395f1fa72e",
   "metadata": {},
   "outputs": [],
   "source": [
    "brasil"
   ]
  },
  {
   "cell_type": "code",
   "execution_count": null,
   "id": "4374c716-b31e-47a6-b373-cc4ad0dc035d",
   "metadata": {},
   "outputs": [],
   "source": [
    "# visualizando \n",
    "px.line(brasil, x='observationdate', y='novoscasos', title='Novos casos por dia')"
   ]
  },
  {
   "cell_type": "code",
   "execution_count": null,
   "id": "0c0d0222-95b9-47bb-b9f5-320fd1b21a1e",
   "metadata": {},
   "outputs": [],
   "source": [
    "# Mortes"
   ]
  },
  {
   "cell_type": "code",
   "execution_count": null,
   "id": "0f599853-c320-4430-8177-bdce30fa300c",
   "metadata": {},
   "outputs": [],
   "source": [
    "fig = go.Figure()\n",
    "fig.add_trace(\n",
    "    go.Scatter(x=brasil.observationdate, y=brasil.deaths, name='Mortes',\n",
    "    mode='lines+markers', line={'color':'red'})\n",
    "    )\n",
    "#Layout\n",
    "fig.update_layout(title='Mortes por Covid-19 no Brasil')\n",
    "fig.show()"
   ]
  },
  {
   "cell_type": "code",
   "execution_count": null,
   "id": "fddb0299-3b2f-4dab-8b4d-28b437143201",
   "metadata": {},
   "outputs": [],
   "source": [
    "# Taxa de crescimento\n",
    "\n",
    "taxa_crescimento = (presente/passado**(1/n)-1"
   ]
  },
  {
   "cell_type": "code",
   "execution_count": null,
   "id": "4f32c28c-3bc8-40bf-9401-de54e5b39c8c",
   "metadata": {},
   "outputs": [],
   "source": [
    "def taxa_crescimento(data, variable, data_inicio=None, data_fim=None):\n",
    "    \n",
    "    # se data inicio for None ,  define como a primeira data disponivel\n",
    "    if data_inicio == None:\n",
    "        data_inicio = data.observationdate.loc[data[variable] > 0].min()\n",
    "    else :\n",
    "        data_inicio = pd.to_datetime(data_inicio)\n",
    "        \n",
    "    if data_fim == None:\n",
    "        data_fim = data.observationdate.iloc[-1]\n",
    "    else :\n",
    "        data_fim = pd.to_datetime(data_fim) \n",
    "        \n",
    "    # Define os valores presentes e passado\n",
    "    passado = data.loc[ data.observationdate == data_inicio, variable].values[0]\n",
    "    presente = data.loc[ data.observationdate == data_fim, variable].values[0]\n",
    "    \n",
    "    # Define o número de pontos no tempo que vamos analisar\n",
    "    n = (data_fim - data_inicio).days\n",
    "    \n",
    "    # Calcular a taxa \n",
    "    taxa = (presente/passado)**(1/n) - 1\n",
    "    \n",
    "    return taxa*100"
   ]
  },
  {
   "cell_type": "code",
   "execution_count": null,
   "id": "b5860bff-3cff-4428-947d-0481d9bc5a88",
   "metadata": {},
   "outputs": [],
   "source": [
    "# Taxa de crescimneto médio do covid no Brasil em todo o período\n",
    "taxa_crescimento(brasil, 'confirmed')"
   ]
  },
  {
   "cell_type": "code",
   "execution_count": null,
   "id": "df8c72b1-3ba0-4ca9-8a06-8980d80003eb",
   "metadata": {},
   "outputs": [],
   "source": [
    "def taxa_crescimento_diaria(data, variable, data_inicio=None):\n",
    "     # se data inicio for None ,  define como a primeira data disponivel\n",
    "    if data_inicio == None:\n",
    "        data_inicio = data.observationdate.loc[data[variable] > 0].min()\n",
    "    else :\n",
    "        data_inicio = pd.to_datetime(data_inicio)\n",
    "        \n",
    "    data_fim = data.observationdate.max()\n",
    "    \n",
    "     # Define o número de pontos no tempo que vamos analisar\n",
    "    n = (data_fim - data_inicio).days\n",
    "    \n",
    "     # Calcular a taxa \n",
    "    taxas = list(map(\n",
    "        lambda x: (data[variable].iloc[x] - data[variable].iloc[x-1]) / data[variable].iloc[x-1],\n",
    "        range(1, n+1)\n",
    "                  ))\n",
    "    return np.array(taxas) * 100"
   ]
  },
  {
   "cell_type": "code",
   "execution_count": null,
   "id": "0c3b425a-11be-4a1d-94b0-7f5b7680e39c",
   "metadata": {},
   "outputs": [],
   "source": [
    "tx_dia = taxa_crescimento_diaria(brasil, 'confirmed')"
   ]
  },
  {
   "cell_type": "code",
   "execution_count": null,
   "id": "a4737e5c-169c-4e56-a24e-2a68443fbfac",
   "metadata": {},
   "outputs": [],
   "source": [
    "tx_dia"
   ]
  },
  {
   "cell_type": "code",
   "execution_count": null,
   "id": "4b32162d-5028-43d6-8810-caeed018c8ef",
   "metadata": {},
   "outputs": [],
   "source": [
    "primeiro_dia = brasil.observationdate.loc[brasil.confirmed > 0].min()\n",
    "\n",
    "px.line(x=pd.date_range(primeiro_dia, brasil.observationdate.max())[1:],\n",
    "        y=tx_dia, title='Taxa de crescimento de casos confirmados no Brasil')"
   ]
  },
  {
   "cell_type": "code",
   "execution_count": null,
   "id": "b7014491-ecbf-4c65-a75f-a8fd4047848e",
   "metadata": {},
   "outputs": [],
   "source": [
    "# Predições"
   ]
  },
  {
   "cell_type": "code",
   "execution_count": null,
   "id": "6b8521af-980c-40e4-9107-ba1541ca19c6",
   "metadata": {},
   "outputs": [],
   "source": [
    "from statsmodels.tsa.seasonal import seasonal_decompose\n",
    "import matplotlib.pyplot as plt"
   ]
  },
  {
   "cell_type": "code",
   "execution_count": null,
   "id": "f4520b94-428f-4625-abbf-75c41c448e7d",
   "metadata": {},
   "outputs": [],
   "source": [
    "confirmados = brasil.confirmed\n",
    "confirmados.index = brasil.observationdate\n",
    "confirmados"
   ]
  },
  {
   "cell_type": "code",
   "execution_count": null,
   "id": "e1a7444f-67b8-4be8-a7b3-e61ce991efcf",
   "metadata": {},
   "outputs": [],
   "source": [
    "res = seasonal_decompose(confirmados)"
   ]
  },
  {
   "cell_type": "code",
   "execution_count": null,
   "id": "02c6bed5-2cdc-4ce0-bd02-5ccb0875c204",
   "metadata": {},
   "outputs": [],
   "source": [
    "fig, (ax1, ax2, ax3, ax4) = plt.subplots(4, 1, figsize=(10, 8))\n",
    "ax1.plot(res.observed)\n",
    "ax2.plot(res.trend)\n",
    "ax3.plot(res.seasonal)\n",
    "ax4.plot(confirmados.index, res.resid)\n",
    "ax4.axhline(0, linestyle='dashed', c='black')\n",
    "plt.show()\n"
   ]
  },
  {
   "cell_type": "code",
   "execution_count": null,
   "id": "d9f5e2f5-e728-420b-86b9-7565a9d0700e",
   "metadata": {},
   "outputs": [],
   "source": [
    "# Arima "
   ]
  },
  {
   "cell_type": "code",
   "execution_count": null,
   "id": "ae6a120d-2c95-4527-ad89-d3dbeccb1b8a",
   "metadata": {},
   "outputs": [],
   "source": [
    "# instalando \n",
    "!pip install pmdarima"
   ]
  },
  {
   "cell_type": "code",
   "execution_count": null,
   "id": "00ed1b9c-e3e8-4a28-9654-7ee75fd533a6",
   "metadata": {
    "scrolled": true,
    "tags": []
   },
   "outputs": [],
   "source": [
    "from pmdarima.arima import auto_arima\n",
    "modelo = auto_arima(confirmados)"
   ]
  },
  {
   "cell_type": "code",
   "execution_count": null,
   "id": "d0f8b494-723f-4d64-84b2-1a716e07cade",
   "metadata": {},
   "outputs": [],
   "source": [
    "fig = go.Figure(go.Scatter(\n",
    "      x=confirmados.index, y=confirmados, name='Observados'\n",
    "))\n",
    "\n",
    "fig.add_trace(go.Scatter(\n",
    "      x=confirmados.index, y=modelo.predict_in_sample(), name='Preditos'\n",
    "))\n",
    "\n",
    "fig.add_trace(go.Scatter(\n",
    "      x=pd.date_range('2020-05-20', '2020-06-20'), y=modelo.predict(31), name='Forecast'\n",
    "))\n",
    "\n",
    "fig.update_layout(title='Previsão de casos confirmados no Brasil para os próximos 30 dias')\n",
    "fig.show()"
   ]
  },
  {
   "cell_type": "code",
   "execution_count": null,
   "id": "2cb4040b-46ab-407f-bd0c-0ce1d91bddb7",
   "metadata": {},
   "outputs": [],
   "source": [
    "# Modelo de crescimento \n",
    "\n",
    "biblioteca FBprophet"
   ]
  },
  {
   "cell_type": "code",
   "execution_count": null,
   "id": "3195c6df-58dd-4c23-a6c3-6e7f95ff076b",
   "metadata": {},
   "outputs": [],
   "source": [
    "!conda install -c conda-forge fbprophet"
   ]
  },
  {
   "cell_type": "code",
   "execution_count": null,
   "id": "e655054f-c6d9-4c41-8093-899fc181c6e1",
   "metadata": {},
   "outputs": [],
   "source": [
    "from fbprophet import Prophet"
   ]
  },
  {
   "cell_type": "code",
   "execution_count": null,
   "id": "8a51acb1-2139-41d8-aa77-2ad5621b729e",
   "metadata": {},
   "outputs": [],
   "source": [
    "#Pré-processamento\n",
    "train = confirmados.reset_index()[0:-5]\n",
    "test = confirmados.reset_index()[-5:]\n",
    "\n",
    "#Renomeando colunas\n",
    "train.rename(columns={'observationdate':'ds', 'confirmed': 'y'}, inplace=true)\n",
    "test.rename(columns={'observationdate':'ds', 'confirmed': 'y'}, inplace=true)\n",
    "\n",
    "#Definir o modelo de crescimento\n",
    "profeta = Prophet(growth='logistic', changepoints=['2020-03-21', '2020-03-30', '2020-04-25',\n",
    "                                                    '2020-05-03', '2020-05-10'])\n",
    "pop = 211463256\n",
    "train['cap'] = pop\n",
    "\n",
    "#Treina modelo\n",
    "profeta.fit(train)\n",
    "\n",
    "#Construir previsões para o futuro\n",
    "future_date = profeta.make_future_dataframe(periods=200)\n",
    "future_date['cap'] = pop\n",
    "forecast = profeta.predict(future_dates)"
   ]
  },
  {
   "cell_type": "code",
   "execution_count": null,
   "id": "74e127e4-9481-4b9f-8c7c-1d79fe8f70d5",
   "metadata": {},
   "outputs": [],
   "source": [
    "fig = go.Figure()\n",
    "\n",
    "fig.add_trace(go.Scatter(\n",
    "      x=forecast.ds, y=forecast.yhat, name='Predição'\n",
    "))\n",
    "\n",
    "fig.add_trace(go.Scatter(\n",
    "      x=test.index, y=test, name='Observados - Teste'\n",
    "))\n",
    "\n",
    "fig.add_trace(go.Scatter(\n",
    "      x=train.ds, y=train.y, name='Observados - Treino'\n",
    "))\n",
    "\n",
    "fig.update_layout(title='Predições de casos confirmados no Brasil')\n",
    "fig.show()"
   ]
  },
  {
   "cell_type": "code",
   "execution_count": null,
   "id": "a28dcb93-1935-4d81-b8ae-a61d005009ee",
   "metadata": {},
   "outputs": [],
   "source": []
  }
 ],
 "metadata": {
  "kernelspec": {
   "display_name": "Python 3 (ipykernel)",
   "language": "python",
   "name": "python3"
  },
  "language_info": {
   "codemirror_mode": {
    "name": "ipython",
    "version": 3
   },
   "file_extension": ".py",
   "mimetype": "text/x-python",
   "name": "python",
   "nbconvert_exporter": "python",
   "pygments_lexer": "ipython3",
   "version": "3.9.13"
  }
 },
 "nbformat": 4,
 "nbformat_minor": 5
}
